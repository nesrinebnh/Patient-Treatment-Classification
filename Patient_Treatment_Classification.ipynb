{
  "nbformat": 4,
  "nbformat_minor": 0,
  "metadata": {
    "colab": {
      "name": "Patient Treatment Classification.ipynb",
      "provenance": [],
      "toc_visible": true
    },
    "kernelspec": {
      "name": "python3",
      "display_name": "Python 3"
    }
  },
  "cells": [
    {
      "cell_type": "markdown",
      "metadata": {
        "id": "sWFvkW7aUoUA"
      },
      "source": [
        "# Importing required packages"
      ]
    },
    {
      "cell_type": "code",
      "metadata": {
        "id": "qHzqk88YQkvB"
      },
      "source": [
        "import pandas as pd\n",
        "import numpy as np\n",
        "import matplotlib.pyplot as plt\n",
        "from sklearn.model_selection import train_test_split\n",
        "from sklearn.tree import DecisionTreeClassifier, DecisionTreeRegressor\n",
        "from sklearn.metrics import accuracy_score\n",
        "import seaborn as sns\n",
        "from sklearn.preprocessing import LabelEncoder, StandardScaler\n",
        "from sklearn.decomposition import PCA\n",
        "from sklearn import preprocessing\n",
        "from sklearn import utils\n",
        "from sklearn import metrics\n",
        "from sklearn.utils import shuffle"
      ],
      "execution_count": 1,
      "outputs": []
    },
    {
      "cell_type": "markdown",
      "metadata": {
        "id": "HFc3OxvMUtpu"
      },
      "source": [
        "# Loading data"
      ]
    },
    {
      "cell_type": "code",
      "metadata": {
        "id": "QHPuFkCTRYOv"
      },
      "source": [
        "patient_data  = pd.read_csv(\"https://raw.githubusercontent.com/dphi-official/Datasets/master/patient_treat_class/training_set_label.csv\" )"
      ],
      "execution_count": 2,
      "outputs": []
    },
    {
      "cell_type": "markdown",
      "metadata": {
        "id": "kpBJvkIdUw6f"
      },
      "source": [
        "# Visualizing the dataset"
      ]
    },
    {
      "cell_type": "code",
      "metadata": {
        "id": "Ls9i4PrHQpMA",
        "outputId": "25758c03-3b56-452b-8bdb-ff62d28e1deb",
        "colab": {
          "base_uri": "https://localhost:8080/",
          "height": 206
        }
      },
      "source": [
        "patient_data.head()"
      ],
      "execution_count": 3,
      "outputs": [
        {
          "output_type": "execute_result",
          "data": {
            "text/html": [
              "<div>\n",
              "<style scoped>\n",
              "    .dataframe tbody tr th:only-of-type {\n",
              "        vertical-align: middle;\n",
              "    }\n",
              "\n",
              "    .dataframe tbody tr th {\n",
              "        vertical-align: top;\n",
              "    }\n",
              "\n",
              "    .dataframe thead th {\n",
              "        text-align: right;\n",
              "    }\n",
              "</style>\n",
              "<table border=\"1\" class=\"dataframe\">\n",
              "  <thead>\n",
              "    <tr style=\"text-align: right;\">\n",
              "      <th></th>\n",
              "      <th>HAEMATOCRIT</th>\n",
              "      <th>HAEMOGLOBINS</th>\n",
              "      <th>ERYTHROCYTE</th>\n",
              "      <th>LEUCOCYTE</th>\n",
              "      <th>THROMBOCYTE</th>\n",
              "      <th>MCH</th>\n",
              "      <th>MCHC</th>\n",
              "      <th>MCV</th>\n",
              "      <th>AGE</th>\n",
              "      <th>SEX</th>\n",
              "      <th>SOURCE</th>\n",
              "    </tr>\n",
              "  </thead>\n",
              "  <tbody>\n",
              "    <tr>\n",
              "      <th>0</th>\n",
              "      <td>33.8</td>\n",
              "      <td>11.1</td>\n",
              "      <td>4.18</td>\n",
              "      <td>4.6</td>\n",
              "      <td>150</td>\n",
              "      <td>26.6</td>\n",
              "      <td>32.8</td>\n",
              "      <td>80.9</td>\n",
              "      <td>33</td>\n",
              "      <td>F</td>\n",
              "      <td>1</td>\n",
              "    </tr>\n",
              "    <tr>\n",
              "      <th>1</th>\n",
              "      <td>44.6</td>\n",
              "      <td>14.0</td>\n",
              "      <td>6.86</td>\n",
              "      <td>6.3</td>\n",
              "      <td>232</td>\n",
              "      <td>20.4</td>\n",
              "      <td>31.4</td>\n",
              "      <td>65.0</td>\n",
              "      <td>36</td>\n",
              "      <td>M</td>\n",
              "      <td>0</td>\n",
              "    </tr>\n",
              "    <tr>\n",
              "      <th>2</th>\n",
              "      <td>42.9</td>\n",
              "      <td>14.0</td>\n",
              "      <td>4.57</td>\n",
              "      <td>6.2</td>\n",
              "      <td>336</td>\n",
              "      <td>30.6</td>\n",
              "      <td>32.6</td>\n",
              "      <td>93.9</td>\n",
              "      <td>70</td>\n",
              "      <td>F</td>\n",
              "      <td>0</td>\n",
              "    </tr>\n",
              "    <tr>\n",
              "      <th>3</th>\n",
              "      <td>41.9</td>\n",
              "      <td>14.4</td>\n",
              "      <td>4.67</td>\n",
              "      <td>3.5</td>\n",
              "      <td>276</td>\n",
              "      <td>30.8</td>\n",
              "      <td>34.4</td>\n",
              "      <td>89.7</td>\n",
              "      <td>18</td>\n",
              "      <td>F</td>\n",
              "      <td>0</td>\n",
              "    </tr>\n",
              "    <tr>\n",
              "      <th>4</th>\n",
              "      <td>40.6</td>\n",
              "      <td>13.3</td>\n",
              "      <td>4.85</td>\n",
              "      <td>14.9</td>\n",
              "      <td>711</td>\n",
              "      <td>27.4</td>\n",
              "      <td>32.8</td>\n",
              "      <td>83.7</td>\n",
              "      <td>36</td>\n",
              "      <td>M</td>\n",
              "      <td>0</td>\n",
              "    </tr>\n",
              "  </tbody>\n",
              "</table>\n",
              "</div>"
            ],
            "text/plain": [
              "   HAEMATOCRIT  HAEMOGLOBINS  ERYTHROCYTE  LEUCOCYTE  ...   MCV  AGE  SEX  SOURCE\n",
              "0         33.8          11.1         4.18        4.6  ...  80.9   33    F       1\n",
              "1         44.6          14.0         6.86        6.3  ...  65.0   36    M       0\n",
              "2         42.9          14.0         4.57        6.2  ...  93.9   70    F       0\n",
              "3         41.9          14.4         4.67        3.5  ...  89.7   18    F       0\n",
              "4         40.6          13.3         4.85       14.9  ...  83.7   36    M       0\n",
              "\n",
              "[5 rows x 11 columns]"
            ]
          },
          "metadata": {
            "tags": []
          },
          "execution_count": 3
        }
      ]
    },
    {
      "cell_type": "code",
      "metadata": {
        "id": "s6Dofj1VQzh9",
        "outputId": "ca6c225c-b952-4b44-81f5-67a994251466",
        "colab": {
          "base_uri": "https://localhost:8080/"
        }
      },
      "source": [
        "patient_data.shape"
      ],
      "execution_count": 4,
      "outputs": [
        {
          "output_type": "execute_result",
          "data": {
            "text/plain": [
              "(3309, 11)"
            ]
          },
          "metadata": {
            "tags": []
          },
          "execution_count": 4
        }
      ]
    },
    {
      "cell_type": "markdown",
      "metadata": {
        "id": "a1wlHLvSU3V7"
      },
      "source": [
        "Does the dataset contain null values?"
      ]
    },
    {
      "cell_type": "code",
      "metadata": {
        "id": "oupKYq-xRiLm",
        "outputId": "692c0b2d-83ac-46c1-8220-239b5224e095",
        "colab": {
          "base_uri": "https://localhost:8080/"
        }
      },
      "source": [
        "patient_data.isnull().sum()"
      ],
      "execution_count": 5,
      "outputs": [
        {
          "output_type": "execute_result",
          "data": {
            "text/plain": [
              "HAEMATOCRIT     0\n",
              "HAEMOGLOBINS    0\n",
              "ERYTHROCYTE     0\n",
              "LEUCOCYTE       0\n",
              "THROMBOCYTE     0\n",
              "MCH             0\n",
              "MCHC            0\n",
              "MCV             0\n",
              "AGE             0\n",
              "SEX             0\n",
              "SOURCE          0\n",
              "dtype: int64"
            ]
          },
          "metadata": {
            "tags": []
          },
          "execution_count": 5
        }
      ]
    },
    {
      "cell_type": "markdown",
      "metadata": {
        "id": "hTOVSxVzU7a1"
      },
      "source": [
        "Such a relief, no null values"
      ]
    },
    {
      "cell_type": "code",
      "metadata": {
        "id": "fvOQ2ZOZR1bg",
        "outputId": "e1b8b4aa-84ac-4429-9abb-eac03f274fd6",
        "colab": {
          "base_uri": "https://localhost:8080/",
          "height": 320
        }
      },
      "source": [
        "patient_data.describe()"
      ],
      "execution_count": 6,
      "outputs": [
        {
          "output_type": "execute_result",
          "data": {
            "text/html": [
              "<div>\n",
              "<style scoped>\n",
              "    .dataframe tbody tr th:only-of-type {\n",
              "        vertical-align: middle;\n",
              "    }\n",
              "\n",
              "    .dataframe tbody tr th {\n",
              "        vertical-align: top;\n",
              "    }\n",
              "\n",
              "    .dataframe thead th {\n",
              "        text-align: right;\n",
              "    }\n",
              "</style>\n",
              "<table border=\"1\" class=\"dataframe\">\n",
              "  <thead>\n",
              "    <tr style=\"text-align: right;\">\n",
              "      <th></th>\n",
              "      <th>HAEMATOCRIT</th>\n",
              "      <th>HAEMOGLOBINS</th>\n",
              "      <th>ERYTHROCYTE</th>\n",
              "      <th>LEUCOCYTE</th>\n",
              "      <th>THROMBOCYTE</th>\n",
              "      <th>MCH</th>\n",
              "      <th>MCHC</th>\n",
              "      <th>MCV</th>\n",
              "      <th>AGE</th>\n",
              "      <th>SOURCE</th>\n",
              "    </tr>\n",
              "  </thead>\n",
              "  <tbody>\n",
              "    <tr>\n",
              "      <th>count</th>\n",
              "      <td>3309.000000</td>\n",
              "      <td>3309.000000</td>\n",
              "      <td>3309.000000</td>\n",
              "      <td>3309.000000</td>\n",
              "      <td>3309.000000</td>\n",
              "      <td>3309.000000</td>\n",
              "      <td>3309.000000</td>\n",
              "      <td>3309.000000</td>\n",
              "      <td>3309.000000</td>\n",
              "      <td>3309.000000</td>\n",
              "    </tr>\n",
              "    <tr>\n",
              "      <th>mean</th>\n",
              "      <td>38.226111</td>\n",
              "      <td>12.749350</td>\n",
              "      <td>4.544802</td>\n",
              "      <td>8.715533</td>\n",
              "      <td>258.893019</td>\n",
              "      <td>28.230039</td>\n",
              "      <td>33.336476</td>\n",
              "      <td>84.611333</td>\n",
              "      <td>46.644303</td>\n",
              "      <td>0.398005</td>\n",
              "    </tr>\n",
              "    <tr>\n",
              "      <th>std</th>\n",
              "      <td>5.971943</td>\n",
              "      <td>2.084325</td>\n",
              "      <td>0.784510</td>\n",
              "      <td>4.991299</td>\n",
              "      <td>112.676139</td>\n",
              "      <td>2.696520</td>\n",
              "      <td>1.247055</td>\n",
              "      <td>6.916079</td>\n",
              "      <td>21.874106</td>\n",
              "      <td>0.489561</td>\n",
              "    </tr>\n",
              "    <tr>\n",
              "      <th>min</th>\n",
              "      <td>13.700000</td>\n",
              "      <td>3.800000</td>\n",
              "      <td>1.480000</td>\n",
              "      <td>1.100000</td>\n",
              "      <td>10.000000</td>\n",
              "      <td>14.900000</td>\n",
              "      <td>26.000000</td>\n",
              "      <td>54.000000</td>\n",
              "      <td>1.000000</td>\n",
              "      <td>0.000000</td>\n",
              "    </tr>\n",
              "    <tr>\n",
              "      <th>25%</th>\n",
              "      <td>34.300000</td>\n",
              "      <td>11.400000</td>\n",
              "      <td>4.040000</td>\n",
              "      <td>5.700000</td>\n",
              "      <td>191.000000</td>\n",
              "      <td>27.200000</td>\n",
              "      <td>32.700000</td>\n",
              "      <td>81.500000</td>\n",
              "      <td>29.000000</td>\n",
              "      <td>0.000000</td>\n",
              "    </tr>\n",
              "    <tr>\n",
              "      <th>50%</th>\n",
              "      <td>38.700000</td>\n",
              "      <td>12.900000</td>\n",
              "      <td>4.580000</td>\n",
              "      <td>7.600000</td>\n",
              "      <td>257.000000</td>\n",
              "      <td>28.700000</td>\n",
              "      <td>33.400000</td>\n",
              "      <td>85.300000</td>\n",
              "      <td>48.000000</td>\n",
              "      <td>0.000000</td>\n",
              "    </tr>\n",
              "    <tr>\n",
              "      <th>75%</th>\n",
              "      <td>42.500000</td>\n",
              "      <td>14.200000</td>\n",
              "      <td>5.060000</td>\n",
              "      <td>10.300000</td>\n",
              "      <td>322.000000</td>\n",
              "      <td>29.800000</td>\n",
              "      <td>34.100000</td>\n",
              "      <td>88.800000</td>\n",
              "      <td>64.000000</td>\n",
              "      <td>1.000000</td>\n",
              "    </tr>\n",
              "    <tr>\n",
              "      <th>max</th>\n",
              "      <td>69.000000</td>\n",
              "      <td>18.900000</td>\n",
              "      <td>7.860000</td>\n",
              "      <td>76.600000</td>\n",
              "      <td>1121.000000</td>\n",
              "      <td>40.800000</td>\n",
              "      <td>38.400000</td>\n",
              "      <td>115.600000</td>\n",
              "      <td>99.000000</td>\n",
              "      <td>1.000000</td>\n",
              "    </tr>\n",
              "  </tbody>\n",
              "</table>\n",
              "</div>"
            ],
            "text/plain": [
              "       HAEMATOCRIT  HAEMOGLOBINS  ...          AGE       SOURCE\n",
              "count  3309.000000   3309.000000  ...  3309.000000  3309.000000\n",
              "mean     38.226111     12.749350  ...    46.644303     0.398005\n",
              "std       5.971943      2.084325  ...    21.874106     0.489561\n",
              "min      13.700000      3.800000  ...     1.000000     0.000000\n",
              "25%      34.300000     11.400000  ...    29.000000     0.000000\n",
              "50%      38.700000     12.900000  ...    48.000000     0.000000\n",
              "75%      42.500000     14.200000  ...    64.000000     1.000000\n",
              "max      69.000000     18.900000  ...    99.000000     1.000000\n",
              "\n",
              "[8 rows x 10 columns]"
            ]
          },
          "metadata": {
            "tags": []
          },
          "execution_count": 6
        }
      ]
    },
    {
      "cell_type": "markdown",
      "metadata": {
        "id": "8aBqeTJQU-7G"
      },
      "source": [
        "# Shuffle the dataset"
      ]
    },
    {
      "cell_type": "code",
      "metadata": {
        "id": "HouQIv0aRrs4"
      },
      "source": [
        "patient_data = shuffle(patient_data)"
      ],
      "execution_count": 7,
      "outputs": []
    },
    {
      "cell_type": "markdown",
      "metadata": {
        "id": "NC8pHTVjVQWW"
      },
      "source": [
        "what are the name of the columns to use them in the spliting"
      ]
    },
    {
      "cell_type": "code",
      "metadata": {
        "id": "lOCHlbffSCBQ",
        "outputId": "b288194a-7053-4221-cd08-c2e5923061b7",
        "colab": {
          "base_uri": "https://localhost:8080/"
        }
      },
      "source": [
        "patient_data.columns"
      ],
      "execution_count": 8,
      "outputs": [
        {
          "output_type": "execute_result",
          "data": {
            "text/plain": [
              "Index(['HAEMATOCRIT', 'HAEMOGLOBINS', 'ERYTHROCYTE', 'LEUCOCYTE',\n",
              "       'THROMBOCYTE', 'MCH', 'MCHC', 'MCV', 'AGE', 'SEX', 'SOURCE'],\n",
              "      dtype='object')"
            ]
          },
          "metadata": {
            "tags": []
          },
          "execution_count": 8
        }
      ]
    },
    {
      "cell_type": "markdown",
      "metadata": {
        "id": "SqUMPeMOVaqo"
      },
      "source": [
        "what are the types of the columns"
      ]
    },
    {
      "cell_type": "code",
      "metadata": {
        "id": "9jLScUqjVY0r",
        "outputId": "c20b4304-b891-4b10-a163-dd3f14211555",
        "colab": {
          "base_uri": "https://localhost:8080/"
        }
      },
      "source": [
        "patient_data.dtypes"
      ],
      "execution_count": 56,
      "outputs": [
        {
          "output_type": "execute_result",
          "data": {
            "text/plain": [
              "HAEMATOCRIT     float64\n",
              "HAEMOGLOBINS    float64\n",
              "ERYTHROCYTE     float64\n",
              "LEUCOCYTE       float64\n",
              "THROMBOCYTE       int64\n",
              "MCH             float64\n",
              "MCHC            float64\n",
              "MCV             float64\n",
              "AGE               int64\n",
              "SEX               int64\n",
              "SOURCE            int64\n",
              "dtype: object"
            ]
          },
          "metadata": {
            "tags": []
          },
          "execution_count": 56
        }
      ]
    },
    {
      "cell_type": "markdown",
      "metadata": {
        "id": "xuwEzxwiV-vl"
      },
      "source": [
        "# Preprocessing the dataset"
      ]
    },
    {
      "cell_type": "markdown",
      "metadata": {
        "id": "1l1BQjRxVXG_"
      },
      "source": [
        "The column SEX contains string values, we need to encode the column. First, let's check the unique values of the column SEX"
      ]
    },
    {
      "cell_type": "code",
      "metadata": {
        "id": "cGeQYRAmT_JL",
        "outputId": "87dee5c0-7c7a-4c20-daaf-34fc2bb59074",
        "colab": {
          "base_uri": "https://localhost:8080/"
        }
      },
      "source": [
        "patient_data.SEX.unique()"
      ],
      "execution_count": 45,
      "outputs": [
        {
          "output_type": "execute_result",
          "data": {
            "text/plain": [
              "array(['F', 'M'], dtype=object)"
            ]
          },
          "metadata": {
            "tags": []
          },
          "execution_count": 45
        }
      ]
    },
    {
      "cell_type": "markdown",
      "metadata": {
        "id": "yReOh0NhVvA2"
      },
      "source": [
        "we have two unique values F and M, if we had F,f,M,m. in that case we needed to do pretraitement."
      ]
    },
    {
      "cell_type": "code",
      "metadata": {
        "id": "-W3QxgJdUJJE"
      },
      "source": [
        "le = LabelEncoder()\n",
        "patient_data['SEX'] = le.fit_transform(patient_data['SEX'])"
      ],
      "execution_count": 9,
      "outputs": []
    },
    {
      "cell_type": "markdown",
      "metadata": {
        "id": "_y_r9GvzV6-z"
      },
      "source": [
        "review the dataset"
      ]
    },
    {
      "cell_type": "code",
      "metadata": {
        "id": "VU9YjrClUQq4",
        "outputId": "1d1ea546-f526-4bd5-eb64-4346a08dd2ca",
        "colab": {
          "base_uri": "https://localhost:8080/",
          "height": 206
        }
      },
      "source": [
        "patient_data.head()"
      ],
      "execution_count": 47,
      "outputs": [
        {
          "output_type": "execute_result",
          "data": {
            "text/html": [
              "<div>\n",
              "<style scoped>\n",
              "    .dataframe tbody tr th:only-of-type {\n",
              "        vertical-align: middle;\n",
              "    }\n",
              "\n",
              "    .dataframe tbody tr th {\n",
              "        vertical-align: top;\n",
              "    }\n",
              "\n",
              "    .dataframe thead th {\n",
              "        text-align: right;\n",
              "    }\n",
              "</style>\n",
              "<table border=\"1\" class=\"dataframe\">\n",
              "  <thead>\n",
              "    <tr style=\"text-align: right;\">\n",
              "      <th></th>\n",
              "      <th>HAEMATOCRIT</th>\n",
              "      <th>HAEMOGLOBINS</th>\n",
              "      <th>ERYTHROCYTE</th>\n",
              "      <th>LEUCOCYTE</th>\n",
              "      <th>THROMBOCYTE</th>\n",
              "      <th>MCH</th>\n",
              "      <th>MCHC</th>\n",
              "      <th>MCV</th>\n",
              "      <th>AGE</th>\n",
              "      <th>SEX</th>\n",
              "      <th>SOURCE</th>\n",
              "    </tr>\n",
              "  </thead>\n",
              "  <tbody>\n",
              "    <tr>\n",
              "      <th>90</th>\n",
              "      <td>43.2</td>\n",
              "      <td>13.7</td>\n",
              "      <td>5.08</td>\n",
              "      <td>7.2</td>\n",
              "      <td>239</td>\n",
              "      <td>27.0</td>\n",
              "      <td>31.7</td>\n",
              "      <td>85.0</td>\n",
              "      <td>69</td>\n",
              "      <td>0</td>\n",
              "      <td>1</td>\n",
              "    </tr>\n",
              "    <tr>\n",
              "      <th>341</th>\n",
              "      <td>39.8</td>\n",
              "      <td>13.8</td>\n",
              "      <td>4.47</td>\n",
              "      <td>4.7</td>\n",
              "      <td>207</td>\n",
              "      <td>30.9</td>\n",
              "      <td>34.7</td>\n",
              "      <td>89.0</td>\n",
              "      <td>37</td>\n",
              "      <td>0</td>\n",
              "      <td>0</td>\n",
              "    </tr>\n",
              "    <tr>\n",
              "      <th>2130</th>\n",
              "      <td>43.0</td>\n",
              "      <td>13.8</td>\n",
              "      <td>5.27</td>\n",
              "      <td>4.3</td>\n",
              "      <td>277</td>\n",
              "      <td>26.2</td>\n",
              "      <td>32.1</td>\n",
              "      <td>81.6</td>\n",
              "      <td>3</td>\n",
              "      <td>0</td>\n",
              "      <td>0</td>\n",
              "    </tr>\n",
              "    <tr>\n",
              "      <th>3251</th>\n",
              "      <td>51.9</td>\n",
              "      <td>17.4</td>\n",
              "      <td>5.94</td>\n",
              "      <td>7.9</td>\n",
              "      <td>245</td>\n",
              "      <td>29.3</td>\n",
              "      <td>33.5</td>\n",
              "      <td>87.4</td>\n",
              "      <td>51</td>\n",
              "      <td>1</td>\n",
              "      <td>1</td>\n",
              "    </tr>\n",
              "    <tr>\n",
              "      <th>3085</th>\n",
              "      <td>38.4</td>\n",
              "      <td>13.6</td>\n",
              "      <td>4.39</td>\n",
              "      <td>10.4</td>\n",
              "      <td>313</td>\n",
              "      <td>31.0</td>\n",
              "      <td>35.4</td>\n",
              "      <td>87.5</td>\n",
              "      <td>29</td>\n",
              "      <td>0</td>\n",
              "      <td>0</td>\n",
              "    </tr>\n",
              "  </tbody>\n",
              "</table>\n",
              "</div>"
            ],
            "text/plain": [
              "      HAEMATOCRIT  HAEMOGLOBINS  ERYTHROCYTE  LEUCOCYTE  ...   MCV  AGE  SEX  SOURCE\n",
              "90           43.2          13.7         5.08        7.2  ...  85.0   69    0       1\n",
              "341          39.8          13.8         4.47        4.7  ...  89.0   37    0       0\n",
              "2130         43.0          13.8         5.27        4.3  ...  81.6    3    0       0\n",
              "3251         51.9          17.4         5.94        7.9  ...  87.4   51    1       1\n",
              "3085         38.4          13.6         4.39       10.4  ...  87.5   29    0       0\n",
              "\n",
              "[5 rows x 11 columns]"
            ]
          },
          "metadata": {
            "tags": []
          },
          "execution_count": 47
        }
      ]
    },
    {
      "cell_type": "markdown",
      "metadata": {
        "id": "VWfAxdSHWDc9"
      },
      "source": [
        "# Split the dataset into train and test "
      ]
    },
    {
      "cell_type": "markdown",
      "metadata": {
        "id": "V0kpF95SWHyM"
      },
      "source": [
        "the target column is SOURCE and the others are the inputs/features"
      ]
    },
    {
      "cell_type": "code",
      "metadata": {
        "id": "Aw2hK8WHR9Yl"
      },
      "source": [
        "input = patient_data.drop('SOURCE', axis='columns')\n",
        "target = patient_data['SOURCE']"
      ],
      "execution_count": 10,
      "outputs": []
    },
    {
      "cell_type": "markdown",
      "metadata": {
        "id": "7hUGsJp3WMkU"
      },
      "source": [
        "display the input"
      ]
    },
    {
      "cell_type": "code",
      "metadata": {
        "id": "gi9_XCJSSHOZ",
        "outputId": "2b1e5322-ec91-4058-c29a-d64d86449b1f",
        "colab": {
          "base_uri": "https://localhost:8080/",
          "height": 424
        }
      },
      "source": [
        "input"
      ],
      "execution_count": 11,
      "outputs": [
        {
          "output_type": "execute_result",
          "data": {
            "text/html": [
              "<div>\n",
              "<style scoped>\n",
              "    .dataframe tbody tr th:only-of-type {\n",
              "        vertical-align: middle;\n",
              "    }\n",
              "\n",
              "    .dataframe tbody tr th {\n",
              "        vertical-align: top;\n",
              "    }\n",
              "\n",
              "    .dataframe thead th {\n",
              "        text-align: right;\n",
              "    }\n",
              "</style>\n",
              "<table border=\"1\" class=\"dataframe\">\n",
              "  <thead>\n",
              "    <tr style=\"text-align: right;\">\n",
              "      <th></th>\n",
              "      <th>HAEMATOCRIT</th>\n",
              "      <th>HAEMOGLOBINS</th>\n",
              "      <th>ERYTHROCYTE</th>\n",
              "      <th>LEUCOCYTE</th>\n",
              "      <th>THROMBOCYTE</th>\n",
              "      <th>MCH</th>\n",
              "      <th>MCHC</th>\n",
              "      <th>MCV</th>\n",
              "      <th>AGE</th>\n",
              "      <th>SEX</th>\n",
              "    </tr>\n",
              "  </thead>\n",
              "  <tbody>\n",
              "    <tr>\n",
              "      <th>2951</th>\n",
              "      <td>49.7</td>\n",
              "      <td>16.7</td>\n",
              "      <td>6.47</td>\n",
              "      <td>4.4</td>\n",
              "      <td>227</td>\n",
              "      <td>25.8</td>\n",
              "      <td>33.6</td>\n",
              "      <td>76.8</td>\n",
              "      <td>31</td>\n",
              "      <td>1</td>\n",
              "    </tr>\n",
              "    <tr>\n",
              "      <th>1893</th>\n",
              "      <td>27.8</td>\n",
              "      <td>9.0</td>\n",
              "      <td>3.14</td>\n",
              "      <td>5.5</td>\n",
              "      <td>185</td>\n",
              "      <td>28.7</td>\n",
              "      <td>32.4</td>\n",
              "      <td>88.5</td>\n",
              "      <td>76</td>\n",
              "      <td>0</td>\n",
              "    </tr>\n",
              "    <tr>\n",
              "      <th>2364</th>\n",
              "      <td>36.6</td>\n",
              "      <td>13.1</td>\n",
              "      <td>4.03</td>\n",
              "      <td>13.9</td>\n",
              "      <td>150</td>\n",
              "      <td>32.5</td>\n",
              "      <td>35.8</td>\n",
              "      <td>90.8</td>\n",
              "      <td>72</td>\n",
              "      <td>0</td>\n",
              "    </tr>\n",
              "    <tr>\n",
              "      <th>2008</th>\n",
              "      <td>35.2</td>\n",
              "      <td>11.8</td>\n",
              "      <td>4.12</td>\n",
              "      <td>8.2</td>\n",
              "      <td>250</td>\n",
              "      <td>28.6</td>\n",
              "      <td>33.5</td>\n",
              "      <td>85.4</td>\n",
              "      <td>37</td>\n",
              "      <td>0</td>\n",
              "    </tr>\n",
              "    <tr>\n",
              "      <th>1064</th>\n",
              "      <td>36.2</td>\n",
              "      <td>12.0</td>\n",
              "      <td>4.65</td>\n",
              "      <td>5.5</td>\n",
              "      <td>191</td>\n",
              "      <td>25.8</td>\n",
              "      <td>33.1</td>\n",
              "      <td>77.8</td>\n",
              "      <td>6</td>\n",
              "      <td>1</td>\n",
              "    </tr>\n",
              "    <tr>\n",
              "      <th>...</th>\n",
              "      <td>...</td>\n",
              "      <td>...</td>\n",
              "      <td>...</td>\n",
              "      <td>...</td>\n",
              "      <td>...</td>\n",
              "      <td>...</td>\n",
              "      <td>...</td>\n",
              "      <td>...</td>\n",
              "      <td>...</td>\n",
              "      <td>...</td>\n",
              "    </tr>\n",
              "    <tr>\n",
              "      <th>1247</th>\n",
              "      <td>43.5</td>\n",
              "      <td>14.7</td>\n",
              "      <td>5.81</td>\n",
              "      <td>12.1</td>\n",
              "      <td>342</td>\n",
              "      <td>25.3</td>\n",
              "      <td>33.8</td>\n",
              "      <td>74.9</td>\n",
              "      <td>38</td>\n",
              "      <td>0</td>\n",
              "    </tr>\n",
              "    <tr>\n",
              "      <th>832</th>\n",
              "      <td>47.2</td>\n",
              "      <td>16.2</td>\n",
              "      <td>5.52</td>\n",
              "      <td>17.0</td>\n",
              "      <td>275</td>\n",
              "      <td>29.3</td>\n",
              "      <td>34.3</td>\n",
              "      <td>85.5</td>\n",
              "      <td>36</td>\n",
              "      <td>1</td>\n",
              "    </tr>\n",
              "    <tr>\n",
              "      <th>2737</th>\n",
              "      <td>37.4</td>\n",
              "      <td>12.7</td>\n",
              "      <td>4.82</td>\n",
              "      <td>9.3</td>\n",
              "      <td>409</td>\n",
              "      <td>26.3</td>\n",
              "      <td>34.0</td>\n",
              "      <td>77.6</td>\n",
              "      <td>2</td>\n",
              "      <td>0</td>\n",
              "    </tr>\n",
              "    <tr>\n",
              "      <th>229</th>\n",
              "      <td>37.1</td>\n",
              "      <td>11.7</td>\n",
              "      <td>5.01</td>\n",
              "      <td>6.9</td>\n",
              "      <td>391</td>\n",
              "      <td>23.4</td>\n",
              "      <td>31.5</td>\n",
              "      <td>74.1</td>\n",
              "      <td>23</td>\n",
              "      <td>0</td>\n",
              "    </tr>\n",
              "    <tr>\n",
              "      <th>1995</th>\n",
              "      <td>48.0</td>\n",
              "      <td>16.5</td>\n",
              "      <td>5.56</td>\n",
              "      <td>7.0</td>\n",
              "      <td>277</td>\n",
              "      <td>29.7</td>\n",
              "      <td>34.4</td>\n",
              "      <td>86.3</td>\n",
              "      <td>19</td>\n",
              "      <td>1</td>\n",
              "    </tr>\n",
              "  </tbody>\n",
              "</table>\n",
              "<p>3309 rows × 10 columns</p>\n",
              "</div>"
            ],
            "text/plain": [
              "      HAEMATOCRIT  HAEMOGLOBINS  ERYTHROCYTE  LEUCOCYTE  ...  MCHC   MCV  AGE  SEX\n",
              "2951         49.7          16.7         6.47        4.4  ...  33.6  76.8   31    1\n",
              "1893         27.8           9.0         3.14        5.5  ...  32.4  88.5   76    0\n",
              "2364         36.6          13.1         4.03       13.9  ...  35.8  90.8   72    0\n",
              "2008         35.2          11.8         4.12        8.2  ...  33.5  85.4   37    0\n",
              "1064         36.2          12.0         4.65        5.5  ...  33.1  77.8    6    1\n",
              "...           ...           ...          ...        ...  ...   ...   ...  ...  ...\n",
              "1247         43.5          14.7         5.81       12.1  ...  33.8  74.9   38    0\n",
              "832          47.2          16.2         5.52       17.0  ...  34.3  85.5   36    1\n",
              "2737         37.4          12.7         4.82        9.3  ...  34.0  77.6    2    0\n",
              "229          37.1          11.7         5.01        6.9  ...  31.5  74.1   23    0\n",
              "1995         48.0          16.5         5.56        7.0  ...  34.4  86.3   19    1\n",
              "\n",
              "[3309 rows x 10 columns]"
            ]
          },
          "metadata": {
            "tags": []
          },
          "execution_count": 11
        }
      ]
    },
    {
      "cell_type": "markdown",
      "metadata": {
        "id": "am1ZMWnOWOwk"
      },
      "source": [
        "display the target"
      ]
    },
    {
      "cell_type": "code",
      "metadata": {
        "id": "ZcjUZ0YcSJaA",
        "outputId": "8f628111-55e6-46a4-f427-6911523f65c1",
        "colab": {
          "base_uri": "https://localhost:8080/"
        }
      },
      "source": [
        "target"
      ],
      "execution_count": 50,
      "outputs": [
        {
          "output_type": "execute_result",
          "data": {
            "text/plain": [
              "90      1\n",
              "341     0\n",
              "2130    0\n",
              "3251    1\n",
              "3085    0\n",
              "       ..\n",
              "795     0\n",
              "3185    0\n",
              "828     1\n",
              "1890    0\n",
              "2259    0\n",
              "Name: SOURCE, Length: 3309, dtype: int64"
            ]
          },
          "metadata": {
            "tags": []
          },
          "execution_count": 50
        }
      ]
    },
    {
      "cell_type": "markdown",
      "metadata": {
        "id": "WUtcEZpvWRod"
      },
      "source": [
        "split the dataset 80% train and 20% test"
      ]
    },
    {
      "cell_type": "code",
      "metadata": {
        "id": "KXtv_FU7TDOu"
      },
      "source": [
        "x_train,x_test,y_train,y_test=train_test_split(input,target,test_size=0.2,random_state=42)"
      ],
      "execution_count": 12,
      "outputs": []
    },
    {
      "cell_type": "markdown",
      "metadata": {
        "id": "1HTfbQGTWVDA"
      },
      "source": [
        "TreeClassifier algorithm"
      ]
    },
    {
      "cell_type": "code",
      "metadata": {
        "id": "X5ois4N0Tpyx",
        "outputId": "e9e82e41-7fed-417d-ffae-ae5aecb3dab8",
        "colab": {
          "base_uri": "https://localhost:8080/"
        }
      },
      "source": [
        "clf = DecisionTreeClassifier()\n",
        "clf = clf.fit(x_train,y_train)\n",
        "y_pred = clf.predict(x_test)\n",
        "print(\"Accuracy:\",metrics.accuracy_score(y_test, y_pred)*100)"
      ],
      "execution_count": 55,
      "outputs": [
        {
          "output_type": "stream",
          "text": [
            "Accuracy: 67.37160120845923\n"
          ],
          "name": "stdout"
        }
      ]
    },
    {
      "cell_type": "markdown",
      "metadata": {
        "id": "0rbBcqXdWb_S"
      },
      "source": [
        "What if we use the RMSE metric, will anything change?"
      ]
    },
    {
      "cell_type": "code",
      "metadata": {
        "id": "BJHux9l3WaW3",
        "outputId": "7e9f063f-4664-4a47-b1bc-396035d88496",
        "colab": {
          "base_uri": "https://localhost:8080/"
        }
      },
      "source": [
        "clf = DecisionTreeClassifier()\n",
        "clf = clf.fit(x_train,y_train)\n",
        "y_pred = clf.predict(x_test)\n",
        "print(\"Accuracy:\",metrics.mean_squared_error(y_test, y_pred,squared=False)*100)"
      ],
      "execution_count": 57,
      "outputs": [
        {
          "output_type": "stream",
          "text": [
            "Accuracy: 56.58990120532994\n"
          ],
          "name": "stdout"
        }
      ]
    },
    {
      "cell_type": "markdown",
      "metadata": {
        "id": "y1XO7u2fXN_c"
      },
      "source": [
        "The accuracy metric is much better"
      ]
    },
    {
      "cell_type": "markdown",
      "metadata": {
        "id": "ulKtEmaVXSgr"
      },
      "source": [
        "what if we use the Regressor algorithm"
      ]
    },
    {
      "cell_type": "code",
      "metadata": {
        "id": "ArqyT2iyXWv8",
        "outputId": "986a5d5e-018e-4172-af12-37696bcc77e3",
        "colab": {
          "base_uri": "https://localhost:8080/"
        }
      },
      "source": [
        "clf = DecisionTreeRegressor()\n",
        "clf = clf.fit(x_train,y_train)\n",
        "y_pred = clf.predict(x_test)\n",
        "print(\"Accuracy:\",metrics.accuracy_score(y_test, y_pred)*100)"
      ],
      "execution_count": 59,
      "outputs": [
        {
          "output_type": "stream",
          "text": [
            "Accuracy: 66.76737160120845\n"
          ],
          "name": "stdout"
        }
      ]
    },
    {
      "cell_type": "markdown",
      "metadata": {
        "id": "MalKj0ocXj2L"
      },
      "source": [
        "Still the DecisionTreeClassifier is the best, what if we use SVM algorithm?"
      ]
    },
    {
      "cell_type": "code",
      "metadata": {
        "id": "SEpsVnUlYbAa",
        "outputId": "b3f7d6aa-cfa8-44a1-8ac3-c4115166e514",
        "colab": {
          "base_uri": "https://localhost:8080/"
        }
      },
      "source": [
        "from sklearn import svm\n",
        "clf = svm.SVC(kernel='linear') \n",
        "clf.fit(x_train, y_train)\n",
        "y_pred = clf.predict(x_test)\n",
        "print(\"Accuracy:\",metrics.accuracy_score(y_test, y_pred)*100)"
      ],
      "execution_count": 14,
      "outputs": [
        {
          "output_type": "stream",
          "text": [
            "Accuracy: 71.29909365558912\n"
          ],
          "name": "stdout"
        }
      ]
    },
    {
      "cell_type": "markdown",
      "metadata": {
        "id": "eqQw2_FDZyRK"
      },
      "source": [
        "SVM performs much better, we will keep the result of SVM obviously "
      ]
    },
    {
      "cell_type": "markdown",
      "metadata": {
        "id": "jYXSMaYKb5e1"
      },
      "source": [
        "# Predict the unseen data"
      ]
    },
    {
      "cell_type": "markdown",
      "metadata": {
        "id": "4htjy8zeb8R0"
      },
      "source": [
        "load the inputs to predict"
      ]
    },
    {
      "cell_type": "code",
      "metadata": {
        "id": "re0ijvwhSLOt"
      },
      "source": [
        "test_data = pd.read_csv('https://raw.githubusercontent.com/dphi-official/Datasets/master/patient_treat_class/testing_set_label.csv')"
      ],
      "execution_count": 24,
      "outputs": []
    },
    {
      "cell_type": "code",
      "metadata": {
        "id": "x4o6z-LJSldU",
        "outputId": "b84a772e-6576-4ef3-c033-4d7da2e48fd3",
        "colab": {
          "base_uri": "https://localhost:8080/",
          "height": 206
        }
      },
      "source": [
        "test_data.head()"
      ],
      "execution_count": 25,
      "outputs": [
        {
          "output_type": "execute_result",
          "data": {
            "text/html": [
              "<div>\n",
              "<style scoped>\n",
              "    .dataframe tbody tr th:only-of-type {\n",
              "        vertical-align: middle;\n",
              "    }\n",
              "\n",
              "    .dataframe tbody tr th {\n",
              "        vertical-align: top;\n",
              "    }\n",
              "\n",
              "    .dataframe thead th {\n",
              "        text-align: right;\n",
              "    }\n",
              "</style>\n",
              "<table border=\"1\" class=\"dataframe\">\n",
              "  <thead>\n",
              "    <tr style=\"text-align: right;\">\n",
              "      <th></th>\n",
              "      <th>HAEMATOCRIT</th>\n",
              "      <th>HAEMOGLOBINS</th>\n",
              "      <th>ERYTHROCYTE</th>\n",
              "      <th>LEUCOCYTE</th>\n",
              "      <th>THROMBOCYTE</th>\n",
              "      <th>MCH</th>\n",
              "      <th>MCHC</th>\n",
              "      <th>MCV</th>\n",
              "      <th>AGE</th>\n",
              "      <th>SEX</th>\n",
              "    </tr>\n",
              "  </thead>\n",
              "  <tbody>\n",
              "    <tr>\n",
              "      <th>0</th>\n",
              "      <td>41.2</td>\n",
              "      <td>14.3</td>\n",
              "      <td>3.99</td>\n",
              "      <td>4.1</td>\n",
              "      <td>296</td>\n",
              "      <td>35.8</td>\n",
              "      <td>34.7</td>\n",
              "      <td>103.3</td>\n",
              "      <td>24</td>\n",
              "      <td>M</td>\n",
              "    </tr>\n",
              "    <tr>\n",
              "      <th>1</th>\n",
              "      <td>25.4</td>\n",
              "      <td>9.1</td>\n",
              "      <td>3.17</td>\n",
              "      <td>19.3</td>\n",
              "      <td>304</td>\n",
              "      <td>28.7</td>\n",
              "      <td>35.8</td>\n",
              "      <td>80.1</td>\n",
              "      <td>66</td>\n",
              "      <td>M</td>\n",
              "    </tr>\n",
              "    <tr>\n",
              "      <th>2</th>\n",
              "      <td>47.5</td>\n",
              "      <td>15.2</td>\n",
              "      <td>6.23</td>\n",
              "      <td>11.5</td>\n",
              "      <td>385</td>\n",
              "      <td>24.4</td>\n",
              "      <td>32.0</td>\n",
              "      <td>76.2</td>\n",
              "      <td>17</td>\n",
              "      <td>F</td>\n",
              "    </tr>\n",
              "    <tr>\n",
              "      <th>3</th>\n",
              "      <td>43.0</td>\n",
              "      <td>14.5</td>\n",
              "      <td>5.35</td>\n",
              "      <td>4.8</td>\n",
              "      <td>134</td>\n",
              "      <td>27.1</td>\n",
              "      <td>33.7</td>\n",
              "      <td>80.4</td>\n",
              "      <td>14</td>\n",
              "      <td>M</td>\n",
              "    </tr>\n",
              "    <tr>\n",
              "      <th>4</th>\n",
              "      <td>40.7</td>\n",
              "      <td>13.6</td>\n",
              "      <td>4.77</td>\n",
              "      <td>4.3</td>\n",
              "      <td>199</td>\n",
              "      <td>28.5</td>\n",
              "      <td>33.4</td>\n",
              "      <td>85.3</td>\n",
              "      <td>24</td>\n",
              "      <td>M</td>\n",
              "    </tr>\n",
              "  </tbody>\n",
              "</table>\n",
              "</div>"
            ],
            "text/plain": [
              "   HAEMATOCRIT  HAEMOGLOBINS  ERYTHROCYTE  LEUCOCYTE  ...  MCHC    MCV  AGE  SEX\n",
              "0         41.2          14.3         3.99        4.1  ...  34.7  103.3   24    M\n",
              "1         25.4           9.1         3.17       19.3  ...  35.8   80.1   66    M\n",
              "2         47.5          15.2         6.23       11.5  ...  32.0   76.2   17    F\n",
              "3         43.0          14.5         5.35        4.8  ...  33.7   80.4   14    M\n",
              "4         40.7          13.6         4.77        4.3  ...  33.4   85.3   24    M\n",
              "\n",
              "[5 rows x 10 columns]"
            ]
          },
          "metadata": {
            "tags": []
          },
          "execution_count": 25
        }
      ]
    },
    {
      "cell_type": "code",
      "metadata": {
        "id": "hizlmIrWSxOo",
        "outputId": "d8617666-620c-4bba-ee87-da45272c1c87",
        "colab": {
          "base_uri": "https://localhost:8080/"
        }
      },
      "source": [
        "test_data.shape"
      ],
      "execution_count": 26,
      "outputs": [
        {
          "output_type": "execute_result",
          "data": {
            "text/plain": [
              "(1103, 10)"
            ]
          },
          "metadata": {
            "tags": []
          },
          "execution_count": 26
        }
      ]
    },
    {
      "cell_type": "code",
      "metadata": {
        "id": "d0A6RYaIbOG_"
      },
      "source": [
        "le = LabelEncoder()\n",
        "test_data['SEX'] = le.fit_transform(test_data['SEX'])"
      ],
      "execution_count": 27,
      "outputs": []
    },
    {
      "cell_type": "markdown",
      "metadata": {
        "id": "ZmxmqOIEaWTZ"
      },
      "source": [
        "we need to predict the target for the the 5 first inputs"
      ]
    },
    {
      "cell_type": "code",
      "metadata": {
        "id": "iLkZ5VRgatMC"
      },
      "source": [
        "x = test_data.head(14)"
      ],
      "execution_count": 33,
      "outputs": []
    },
    {
      "cell_type": "code",
      "metadata": {
        "id": "VXY0OyKga6ki",
        "outputId": "cd28ab00-d2f2-49df-ac9c-62b9953df885",
        "colab": {
          "base_uri": "https://localhost:8080/",
          "height": 206
        }
      },
      "source": [
        "x"
      ],
      "execution_count": 29,
      "outputs": [
        {
          "output_type": "execute_result",
          "data": {
            "text/html": [
              "<div>\n",
              "<style scoped>\n",
              "    .dataframe tbody tr th:only-of-type {\n",
              "        vertical-align: middle;\n",
              "    }\n",
              "\n",
              "    .dataframe tbody tr th {\n",
              "        vertical-align: top;\n",
              "    }\n",
              "\n",
              "    .dataframe thead th {\n",
              "        text-align: right;\n",
              "    }\n",
              "</style>\n",
              "<table border=\"1\" class=\"dataframe\">\n",
              "  <thead>\n",
              "    <tr style=\"text-align: right;\">\n",
              "      <th></th>\n",
              "      <th>HAEMATOCRIT</th>\n",
              "      <th>HAEMOGLOBINS</th>\n",
              "      <th>ERYTHROCYTE</th>\n",
              "      <th>LEUCOCYTE</th>\n",
              "      <th>THROMBOCYTE</th>\n",
              "      <th>MCH</th>\n",
              "      <th>MCHC</th>\n",
              "      <th>MCV</th>\n",
              "      <th>AGE</th>\n",
              "      <th>SEX</th>\n",
              "    </tr>\n",
              "  </thead>\n",
              "  <tbody>\n",
              "    <tr>\n",
              "      <th>0</th>\n",
              "      <td>41.2</td>\n",
              "      <td>14.3</td>\n",
              "      <td>3.99</td>\n",
              "      <td>4.1</td>\n",
              "      <td>296</td>\n",
              "      <td>35.8</td>\n",
              "      <td>34.7</td>\n",
              "      <td>103.3</td>\n",
              "      <td>24</td>\n",
              "      <td>1</td>\n",
              "    </tr>\n",
              "    <tr>\n",
              "      <th>1</th>\n",
              "      <td>25.4</td>\n",
              "      <td>9.1</td>\n",
              "      <td>3.17</td>\n",
              "      <td>19.3</td>\n",
              "      <td>304</td>\n",
              "      <td>28.7</td>\n",
              "      <td>35.8</td>\n",
              "      <td>80.1</td>\n",
              "      <td>66</td>\n",
              "      <td>1</td>\n",
              "    </tr>\n",
              "    <tr>\n",
              "      <th>2</th>\n",
              "      <td>47.5</td>\n",
              "      <td>15.2</td>\n",
              "      <td>6.23</td>\n",
              "      <td>11.5</td>\n",
              "      <td>385</td>\n",
              "      <td>24.4</td>\n",
              "      <td>32.0</td>\n",
              "      <td>76.2</td>\n",
              "      <td>17</td>\n",
              "      <td>0</td>\n",
              "    </tr>\n",
              "    <tr>\n",
              "      <th>3</th>\n",
              "      <td>43.0</td>\n",
              "      <td>14.5</td>\n",
              "      <td>5.35</td>\n",
              "      <td>4.8</td>\n",
              "      <td>134</td>\n",
              "      <td>27.1</td>\n",
              "      <td>33.7</td>\n",
              "      <td>80.4</td>\n",
              "      <td>14</td>\n",
              "      <td>1</td>\n",
              "    </tr>\n",
              "    <tr>\n",
              "      <th>4</th>\n",
              "      <td>40.7</td>\n",
              "      <td>13.6</td>\n",
              "      <td>4.77</td>\n",
              "      <td>4.3</td>\n",
              "      <td>199</td>\n",
              "      <td>28.5</td>\n",
              "      <td>33.4</td>\n",
              "      <td>85.3</td>\n",
              "      <td>24</td>\n",
              "      <td>1</td>\n",
              "    </tr>\n",
              "  </tbody>\n",
              "</table>\n",
              "</div>"
            ],
            "text/plain": [
              "   HAEMATOCRIT  HAEMOGLOBINS  ERYTHROCYTE  LEUCOCYTE  ...  MCHC    MCV  AGE  SEX\n",
              "0         41.2          14.3         3.99        4.1  ...  34.7  103.3   24    1\n",
              "1         25.4           9.1         3.17       19.3  ...  35.8   80.1   66    1\n",
              "2         47.5          15.2         6.23       11.5  ...  32.0   76.2   17    0\n",
              "3         43.0          14.5         5.35        4.8  ...  33.7   80.4   14    1\n",
              "4         40.7          13.6         4.77        4.3  ...  33.4   85.3   24    1\n",
              "\n",
              "[5 rows x 10 columns]"
            ]
          },
          "metadata": {
            "tags": []
          },
          "execution_count": 29
        }
      ]
    },
    {
      "cell_type": "code",
      "metadata": {
        "id": "tR85W5UXa8rE",
        "outputId": "d9a31656-3c30-4ba0-8489-a586adc7b0f3",
        "colab": {
          "base_uri": "https://localhost:8080/"
        }
      },
      "source": [
        "x.shape"
      ],
      "execution_count": 34,
      "outputs": [
        {
          "output_type": "execute_result",
          "data": {
            "text/plain": [
              "(14, 10)"
            ]
          },
          "metadata": {
            "tags": []
          },
          "execution_count": 34
        }
      ]
    },
    {
      "cell_type": "code",
      "metadata": {
        "id": "hhMvF8Oja_Wf"
      },
      "source": [
        "y_pred = clf.predict(x)"
      ],
      "execution_count": 35,
      "outputs": []
    },
    {
      "cell_type": "code",
      "metadata": {
        "id": "2WWxi6OObZmp",
        "outputId": "7dfccc96-1bd9-499e-fcf8-de8a257dd32a",
        "colab": {
          "base_uri": "https://localhost:8080/"
        }
      },
      "source": [
        "y_pred"
      ],
      "execution_count": 36,
      "outputs": [
        {
          "output_type": "execute_result",
          "data": {
            "text/plain": [
              "array([0, 1, 0, 0, 0, 0, 0, 0, 0, 0, 0, 1, 0, 1])"
            ]
          },
          "metadata": {
            "tags": []
          },
          "execution_count": 36
        }
      ]
    },
    {
      "cell_type": "markdown",
      "metadata": {
        "id": "5e0rkPe_bzO9"
      },
      "source": [
        "we have three wrong predictions"
      ]
    },
    {
      "cell_type": "markdown",
      "metadata": {
        "id": "a2YvUkglcB9F"
      },
      "source": [
        "load the real target to compare"
      ]
    },
    {
      "cell_type": "code",
      "metadata": {
        "id": "7iWVcVO6cHsS",
        "outputId": "6b929bc8-7273-4263-f650-7a4ed10ff2fa",
        "colab": {
          "base_uri": "https://localhost:8080/"
        }
      },
      "source": [
        "import numpy as np\n",
        "y = np.array([0, 1, 0, 1,1,0,0,1,0,0,0,1,0,1])\n",
        "y"
      ],
      "execution_count": 38,
      "outputs": [
        {
          "output_type": "execute_result",
          "data": {
            "text/plain": [
              "array([0, 1, 0, 1, 1, 0, 0, 1, 0, 0, 0, 1, 0, 1])"
            ]
          },
          "metadata": {
            "tags": []
          },
          "execution_count": 38
        }
      ]
    },
    {
      "cell_type": "code",
      "metadata": {
        "id": "zyTHUwVQcr3W",
        "outputId": "58d79489-2112-4c19-e8ec-4f7ccaef860d",
        "colab": {
          "base_uri": "https://localhost:8080/"
        }
      },
      "source": [
        "print(\"Accuracy:\",metrics.accuracy_score(y, y_pred)*100)"
      ],
      "execution_count": 39,
      "outputs": [
        {
          "output_type": "stream",
          "text": [
            "Accuracy: 78.57142857142857\n"
          ],
          "name": "stdout"
        }
      ]
    },
    {
      "cell_type": "markdown",
      "metadata": {
        "id": "ocVEt5rrdk0f"
      },
      "source": [
        "let's now predict the whole"
      ]
    },
    {
      "cell_type": "code",
      "metadata": {
        "id": "52aPT3CgdicX"
      },
      "source": [
        "y_pred = clf.predict(test_data)"
      ],
      "execution_count": 40,
      "outputs": []
    },
    {
      "cell_type": "code",
      "metadata": {
        "id": "kaizWJCodyIR",
        "outputId": "03def32c-1736-477f-8a52-9e23093f1579",
        "colab": {
          "base_uri": "https://localhost:8080/"
        }
      },
      "source": [
        "y_pred"
      ],
      "execution_count": 41,
      "outputs": [
        {
          "output_type": "execute_result",
          "data": {
            "text/plain": [
              "array([0, 1, 0, ..., 0, 0, 0])"
            ]
          },
          "metadata": {
            "tags": []
          },
          "execution_count": 41
        }
      ]
    },
    {
      "cell_type": "code",
      "metadata": {
        "id": "copy3iWgdz11"
      },
      "source": [
        "np.savetxt(\"sample_submission.csv\", y_pred, delimiter=\",\")"
      ],
      "execution_count": 43,
      "outputs": []
    },
    {
      "cell_type": "markdown",
      "metadata": {
        "id": "vmXFMUYhc0qX"
      },
      "source": [
        "Hope you enjoyed my notebook ^^"
      ]
    }
  ]
}